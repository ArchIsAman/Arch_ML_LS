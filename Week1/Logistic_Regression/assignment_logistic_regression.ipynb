{
  "nbformat": 4,
  "nbformat_minor": 0,
  "metadata": {
    "colab": {
      "provenance": []
    },
    "kernelspec": {
      "name": "python3",
      "display_name": "Python 3"
    },
    "language_info": {
      "name": "python"
    }
  },
  "cells": [
    {
      "cell_type": "markdown",
      "source": [
        "##ASSIGNMENT\n",
        "#Dataset\n",
        "Assume you are a scientist who is trying to make a propellent and is trying many tests to make an efficient propellent .\n",
        "<br>\n",
        "You have performed two tests.\n",
        "<br>\n",
        "From the two tests you would like whether this propellent works efficiently or not.\n",
        "Build your own logistic regression model to decide .\n",
        "<br>\n",
        "Text with \"DO NOT EDIT THIS CODE\" needs to be only run do not edit it\n"
      ],
      "metadata": {
        "id": "wNEUsAHHCGk2"
      }
    },
    {
      "cell_type": "code",
      "execution_count": 22,
      "metadata": {
        "id": "xJm_XXJo4RDg"
      },
      "outputs": [],
      "source": [
        "import numpy as np\n",
        "import matplotlib.pyplot as plt\n",
        "import math"
      ]
    },
    {
      "cell_type": "code",
      "source": [
        "#load data\n",
        "data=np.loadtxt(\"data.txt\", delimiter=',')\n",
        "X=data[:,:2]\n",
        "y=data[:,2]\n",
        "X_train=X\n",
        "y_train=y"
      ],
      "metadata": {
        "id": "YtL0jW6m4e1A"
      },
      "execution_count": 2,
      "outputs": []
    },
    {
      "cell_type": "code",
      "source": [
        "#plot data to visualise\n",
        "def plot_data(X,y,positive_label=\"y=1\", negative_label=\"y=0\"):\n",
        "#positive_label and negative_label refers to classes of y as y can be 0 or 1\n",
        "    positive = y == 1\n",
        "    negative = y == 0\n",
        "    plt.plot(X[positive, 0], X[positive, 1], 'k+', label=positive_label)\n",
        "    plt.plot(X[negative, 0], X[negative, 1], 'yo', label=negative_label)\n",
        "#While plotting graph the label parameter will be either positive_label or negative_label so plot both the labels for"
      ],
      "metadata": {
        "id": "Bk2qYHyk4mNm"
      },
      "execution_count": 3,
      "outputs": []
    },
    {
      "cell_type": "code",
      "source": [
        "#test\n",
        "plot_data(X_train, y_train[:], positive_label=\"Accepted\", negative_label=\"Rejected\")\n",
        "\n",
        "\n",
        "plt.xlabel('Test 2')\n",
        "plt.ylabel('Test 1')\n",
        "plt.legend(loc=\"upper right\")\n",
        "plt.show()"
      ],
      "metadata": {
        "id": "RzsMdrwv58tQ",
        "outputId": "a7817e25-97f8-4126-9d6c-d49b0d39bc59",
        "colab": {
          "base_uri": "https://localhost:8080/",
          "height": 449
        }
      },
      "execution_count": 4,
      "outputs": [
        {
          "output_type": "display_data",
          "data": {
            "text/plain": [
              "<Figure size 640x480 with 1 Axes>"
            ],
            "image/png": "[encoded data removed]"
          },
          "metadata": {}
        }
      ]
    },
    {
      "cell_type": "code",
      "source": [
        "#feature mapping\n",
        "def map_feature(X1,X2):\n",
        "  X1=np.atleast_1d(X1)\n",
        "  X2=np.atleast_1d(X2)\n",
        "  degree=6\n",
        "  out=[]\n",
        "  for i in range(1,degree+1):\n",
        "    for j in range(i+1):\n",
        "      out.append((X1**(i-j) * (X2**j)))\n",
        "  return np.stack(out, axis=1)"
      ],
      "metadata": {
        "id": "KhRBdaFi6nKo"
      },
      "execution_count": 7,
      "outputs": []
    },
    {
      "cell_type": "code",
      "source": [
        "print(\"Original shape of data:\", X_train.shape)\n",
        "\n",
        "mapped_X =  map_feature(X_train[:, 0], X_train[:, 1])\n",
        "print(\"Shape after feature mapping:\", mapped_X.shape)"
      ],
      "metadata": {
        "id": "PNS4kJfq6_m8",
        "outputId": "428a7699-2ea5-4ccc-a059-c2e56331d42a",
        "colab": {
          "base_uri": "https://localhost:8080/"
        }
      },
      "execution_count": 8,
      "outputs": [
        {
          "output_type": "stream",
          "name": "stdout",
          "text": [
            "Original shape of data: (118, 2)\n",
            "Shape after feature mapping: (118, 27)\n"
          ]
        }
      ]
    },
    {
      "cell_type": "code",
      "source": [
        "# @title DO NOT EDIT THIS CODE\n",
        "def sigmoid_test(target):\n",
        "    assert np.isclose(target(3.0), 0.9525741268224334), \"Failed for scalar input\"\n",
        "    assert np.allclose(target(np.array([2.5, 0])), [0.92414182, 0.5]), \"Failed for 1D array\"\n",
        "    assert np.allclose(target(np.array([[2.5, -2.5], [0, 1]])),\n",
        "                       [[0.92414182, 0.07585818], [0.5, 0.73105858]]), \"Failed for 2D array\"\n",
        "    print('\\033[92mTests passed!')"
      ],
      "metadata": {
        "id": "BqlxZOXoHh4z",
        "cellView": "form"
      },
      "execution_count": 11,
      "outputs": []
    },
    {
      "cell_type": "code",
      "source": [
        "#sigmoid function\n",
        "def sigmoid(z):\n",
        "#write your code\n",
        "    return 1/(1+np.exp(-z))\n",
        "\n"
      ],
      "metadata": {
        "id": "wdgE-ay07C0P"
      },
      "execution_count": 12,
      "outputs": []
    },
    {
      "cell_type": "code",
      "source": [
        "sigmoid_test(sigmoid)\n"
      ],
      "metadata": {
        "id": "9XOlXXyxHnmB",
        "outputId": "8772ed5e-15c6-49c8-bd79-ea7462ecc0bd",
        "colab": {
          "base_uri": "https://localhost:8080/"
        }
      },
      "execution_count": 13,
      "outputs": [
        {
          "output_type": "stream",
          "name": "stdout",
          "text": [
            "\u001b[92mTests passed!\n"
          ]
        }
      ]
    },
    {
      "cell_type": "code",
      "source": [
        "# @title DO NOT EDIT THIS CODE\n",
        "def compute_cost_test(target):\n",
        "    X = np.array([[0, 0, 0, 0]]).T\n",
        "    y = np.array([0, 0, 0, 0])\n",
        "    w = np.array([0])\n",
        "    b = 1\n",
        "    result = target(X, y, w, b)\n",
        "    if math.isinf(result):\n",
        "        raise ValueError(\"Did you get the sigmoid of z_wb?\")\n",
        "\n",
        "    np.random.seed(17)\n",
        "    X = np.random.randn(5, 2)\n",
        "    y = np.array([1, 0, 0, 1, 1])\n",
        "    w = np.random.randn(2)\n",
        "    b = 0\n",
        "    result = target(X, y, w, b)\n",
        "    assert np.isclose(result, 2.15510667), f\"Wrong output. Expected: {2.15510667} got: {result}\"\n",
        "\n",
        "    X = np.random.randn(4, 3)\n",
        "    y = np.array([1, 1, 0, 0])\n",
        "    w = np.random.randn(3)\n",
        "    b = 0\n",
        "\n",
        "    result = target(X, y, w, b)\n",
        "    assert np.isclose(result, 0.80709376), f\"Wrong output. Expected: {0.80709376} got: {result}\"\n",
        "\n",
        "    X = np.random.randn(4, 3)\n",
        "    y = np.array([1, 0,1, 0])\n",
        "    w = np.random.randn(3)\n",
        "    b = 3\n",
        "    result = target(X, y, w, b)\n",
        "    assert np.isclose(result, 0.4529660647), f\"Wrong output. Expected: {0.4529660647} got: {result}. Did you inizialized z_wb = b?\"\n",
        "\n",
        "    print('\\033[92mTests passed!')"
      ],
      "metadata": {
        "id": "QLqfyxPrH-v-",
        "cellView": "form"
      },
      "execution_count": 23,
      "outputs": []
    },
    {
      "cell_type": "code",
      "source": [
        "#computing cost\n",
        "def compute_cost(X,y,w,b,lambda_=1):\n",
        "#write your code\n",
        "\n",
        "  cost = 0\n",
        "  m = len(y)\n",
        "  for i in range(m):\n",
        "    y_pred = sigmoid(np.dot(X[i],w)+b)\n",
        "    cost += -((1-y[i])*np.log(1-y_pred)+y[i]*np.log(y_pred))\n",
        "  total_cost = cost/m\n",
        "  return total_cost"
      ],
      "metadata": {
        "id": "PRIqcpJ17MzH"
      },
      "execution_count": 40,
      "outputs": []
    },
    {
      "cell_type": "code",
      "source": [
        "test_w = np.array([0.2, 0.2])\n",
        "test_b = -24.\n",
        "cost = compute_cost(X_train, y_train, test_w, test_b)\n",
        "\n",
        "print('Cost at test w,b: {:.3f}'.format(cost))\n",
        "\n",
        "\n",
        "# test\n",
        "compute_cost_test(compute_cost)"
      ],
      "metadata": {
        "id": "MPOvLzL5H5-5",
        "outputId": "d4ff01b5-c839-4da1-86bf-973b78d5ab9b",
        "colab": {
          "base_uri": "https://localhost:8080/"
        }
      },
      "execution_count": 41,
      "outputs": [
        {
          "output_type": "stream",
          "name": "stdout",
          "text": [
            "Cost at test w,b: 11.777\n",
            "\u001b[92mTests passed!\n"
          ]
        }
      ]
    },
    {
      "cell_type": "code",
      "source": [
        "#compute regularised cost\n",
        "def compute_cost_reg(X, y, w, b, lambda_ = 1):\n",
        "#write your code\n",
        "\n",
        "  cost = 0\n",
        "  m = len(y)\n",
        "  for i in range(m):\n",
        "    y_pred = sigmoid(np.dot(X[i],w)+b)\n",
        "    cost += -((1-y[i])*np.log(1-y_pred)+y[i]*np.log(y_pred))\n",
        "  total_cost = (cost/m)+(lambda_*np.square(w).sum()/(2*m))\n",
        "\n",
        "\n",
        "  return total_cost"
      ],
      "metadata": {
        "id": "ULkWUBkO7ffh"
      },
      "execution_count": 48,
      "outputs": []
    },
    {
      "cell_type": "code",
      "source": [
        "# @title DO NOT EDIT THIS CODE\n",
        "def compute_cost_reg_test(target):\n",
        "    np.random.seed(1)\n",
        "    w = np.random.randn(3)\n",
        "    b = 0.4\n",
        "    X = np.random.randn(6, 3)\n",
        "    y = np.array([0, 1, 1, 0, 1, 1])\n",
        "    lambda_ = 0.1\n",
        "    expected_output = target(X, y, w, b, lambda_)\n",
        "\n",
        "    assert np.isclose(expected_output, 0.5469746792761936), f\"Wrong output. Expected: {0.5469746792761936} got:{expected_output}\"\n",
        "\n",
        "    w = np.random.randn(5)\n",
        "    b = -0.6\n",
        "    X = np.random.randn(8, 5)\n",
        "    y = np.array([1, 0, 1, 0, 0, 1, 0, 1])\n",
        "    lambda_ = 0.01\n",
        "    output = target(X, y, w, b, lambda_)\n",
        "    assert np.isclose(output, 1.2608591964119995), f\"Wrong output. Expected: {1.2608591964119995} got:{output}\"\n",
        "\n",
        "    w = np.array([2, 2, 2, 2, 2])\n",
        "    b = 0\n",
        "    X = np.zeros((8, 5))\n",
        "    y = np.array([0.5] * 8)\n",
        "    lambda_ = 3\n",
        "    output = target(X, y, w, b, lambda_)\n",
        "    expected = -np.log(0.5) + 3. / (2. * 8.) * 20.\n",
        "    assert np.isclose(output, expected), f\"Wrong output. Expected: {expected} got:{output}\"\n",
        "\n",
        "    print('\\033[92mAll tests passed!')"
      ],
      "metadata": {
        "id": "OhFbPakDGKQj",
        "cellView": "form"
      },
      "execution_count": 46,
      "outputs": []
    },
    {
      "cell_type": "code",
      "source": [
        "X_mapped = map_feature(X_train[:, 0], X_train[:, 1])\n",
        "np.random.seed(1)\n",
        "initial_w = np.random.rand(X_mapped.shape[1]) - 0.5\n",
        "initial_b = 0.5\n",
        "lambda_ = 0.5\n",
        "cost = compute_cost_reg(X_mapped, y_train, initial_w, initial_b, lambda_)\n",
        "\n",
        "print(\"Regularised cost :\", cost)\n",
        "\n",
        "#test\n",
        "compute_cost_reg_test(compute_cost_reg)"
      ],
      "metadata": {
        "id": "jO14e7OD7syR",
        "outputId": "257a9c37-4a3a-4399-f808-7e9458712d8e",
        "colab": {
          "base_uri": "https://localhost:8080/"
        }
      },
      "execution_count": 49,
      "outputs": [
        {
          "output_type": "stream",
          "name": "stdout",
          "text": [
            "Regularised cost : 0.6618252552483948\n",
            "\u001b[92mAll tests passed!\n"
          ]
        }
      ]
    },
    {
      "cell_type": "code",
      "source": [
        "# @title DO NOT EDIT THIS CODE\n",
        "def compute_gradient_test(target):\n",
        "    np.random.seed(1)\n",
        "    X = np.random.randn(7, 3)\n",
        "    y = np.array([1, 0, 1, 0, 1, 1, 0])\n",
        "    test_w = np.array([1, 0.5, -0.35])\n",
        "    test_b = 1.7\n",
        "    dj_db, dj_dw  = target(X, y, test_w, test_b)\n",
        "\n",
        "    assert np.isclose(dj_db, 0.28936094), f\"Wrong value for dj_db. Expected: {0.28936094} got: {dj_db}\"\n",
        "    assert dj_dw.shape == test_w.shape, f\"Wrong shape for dj_dw. Expected: {test_w.shape} got: {dj_dw.shape}\"\n",
        "    assert np.allclose(dj_dw, [-0.11999166, 0.41498775, -0.71968405]), f\"Wrong values for dj_dw. Got: {dj_dw}\"\n",
        "\n",
        "    print('\\033[92mTests passed!')"
      ],
      "metadata": {
        "id": "plQBUPM2IRei",
        "cellView": "form"
      },
      "execution_count": 52,
      "outputs": []
    },
    {
      "cell_type": "code",
      "source": [
        "#compute gradient\n",
        "def compute_gradient(X, y, w, b, lambda_=None):\n",
        "#write your code\n",
        "\n",
        "  m,n = X.shape\n",
        "  dj_dw = np.zeros(n)\n",
        "  dj_db = 0.0\n",
        "\n",
        "  for i in range(m):\n",
        "      f_wb_i = sigmoid(np.dot(X[i],w) + b)\n",
        "      err_i  = f_wb_i  - y[i]\n",
        "      for j in range(n):\n",
        "          dj_dw[j] = dj_dw[j] + err_i * X[i,j]\n",
        "      dj_db = dj_db + err_i\n",
        "  dj_dw = dj_dw/m\n",
        "  dj_db = dj_db/m\n",
        "\n",
        "\n",
        "  return dj_db,dj_dw"
      ],
      "metadata": {
        "id": "v27SzhYX8-ug"
      },
      "execution_count": 54,
      "outputs": []
    },
    {
      "cell_type": "code",
      "source": [
        "test_w = np.array([ 0.2, -0.5])\n",
        "test_b = -24\n",
        "dj_db, dj_dw  = compute_gradient(X_train, y_train, test_w, test_b)\n",
        "\n",
        "print('dj_db at test_w:', dj_db)\n",
        "print('dj_dw at test_w:', dj_dw.tolist())\n",
        "\n",
        "# test\n",
        "compute_gradient_test(compute_gradient)"
      ],
      "metadata": {
        "id": "WLmFL2yuIPUA",
        "outputId": "2e8b2bbc-d1d3-4f34-c5fc-6916b94fb87c",
        "colab": {
          "base_uri": "https://localhost:8080/"
        }
      },
      "execution_count": 55,
      "outputs": [
        {
          "output_type": "stream",
          "name": "stdout",
          "text": [
            "dj_db at test_w: -0.4915254236924827\n",
            "dj_dw at test_w: [-0.008601361012465367, -0.09147300847306211]\n",
            "\u001b[92mTests passed!\n"
          ]
        }
      ]
    },
    {
      "cell_type": "code",
      "source": [
        "#compute regularised gradient\n",
        "def compute_gradient_reg(X, y, w, b, lambda_=1):\n",
        "\n",
        "  m,n = X.shape\n",
        "  dj_dw = np.zeros(n)\n",
        "  dj_db = 0.0\n",
        "\n",
        "  for i in range(m):\n",
        "      f_wb_i = sigmoid(np.dot(X[i],w) + b)\n",
        "      err_i  = f_wb_i  - y[i]\n",
        "      for j in range(n):\n",
        "          dj_dw[j] = dj_dw[j] + err_i * X[i,j]\n",
        "      dj_db = dj_db + err_i\n",
        "  dj_dw = (dj_dw/m)+((lambda_/m)*w)\n",
        "  dj_db = dj_db/m\n",
        "\n",
        "\n",
        "  return dj_db,dj_dw"
      ],
      "metadata": {
        "id": "TGfUArz09TMl"
      },
      "execution_count": 56,
      "outputs": []
    },
    {
      "cell_type": "code",
      "source": [
        "# @title DO NOT EDIT THIS CODE\n",
        "def compute_gradient_reg_test(target):\n",
        "    np.random.seed(1)\n",
        "    w = np.random.randn(5)\n",
        "    b = 0.2\n",
        "    X = np.random.randn(7, 5)\n",
        "    y = np.array([0, 1, 1, 0, 1, 1, 0])\n",
        "    lambda_ = 0.1\n",
        "    expected1 = (-0.1506447567869257, np.array([ 0.19530838, -0.00632206,  0.19687367,  0.15741161,  0.02791437]))\n",
        "    dj_db, dj_dw = target(X, y, w, b, lambda_)\n",
        "\n",
        "    assert np.isclose(dj_db, expected1[0]), f\"Wrong dj_db. Expected: {expected1[0]} got: {dj_db}\"\n",
        "    assert np.allclose(dj_dw, expected1[1]), f\"Wrong dj_dw. Expected: {expected1[1]} got: {dj_dw}\"\n",
        "\n",
        "\n",
        "    w = np.random.randn(7)\n",
        "    b = 0\n",
        "    X = np.random.randn(7, 7)\n",
        "    y = np.array([1, 0, 0, 0, 1, 1, 0])\n",
        "    lambda_ = 0\n",
        "    expected2 = (0.02660329857573818, np.array([ 0.23567643, -0.06921029, -0.19705212, -0.0002884 ,  0.06490588,\n",
        "        0.26948175,  0.10777992]))\n",
        "    dj_db, dj_dw = target(X, y, w, b, lambda_)\n",
        "    assert np.isclose(dj_db, expected2[0]), f\"Wrong dj_db. Expected: {expected2[0]} got: {dj_db}\"\n",
        "    assert np.allclose(dj_dw, expected2[1]), f\"Wrong dj_dw. Expected: {expected2[1]} got: {dj_dw}\"\n",
        "\n",
        "    print('\\033[92mTests passed!')"
      ],
      "metadata": {
        "id": "KNRCWIc8G2cp",
        "cellView": "form"
      },
      "execution_count": 57,
      "outputs": []
    },
    {
      "cell_type": "code",
      "source": [
        "X_mapped = map_feature(X_train[:, 0], X_train[:, 1])\n",
        "np.random.seed(1)\n",
        "initial_w  = np.random.rand(X_mapped.shape[1]) - 0.5\n",
        "initial_b = 0.5\n",
        "\n",
        "lambda_ = 0.5\n",
        "dj_db, dj_dw = compute_gradient_reg(X_mapped, y_train, initial_w, initial_b, lambda_)\n",
        "\n",
        "print(f\"dj_db: {dj_db}\" )\n",
        "#test\n",
        "compute_gradient_reg_test(compute_gradient_reg)"
      ],
      "metadata": {
        "id": "3_of_BHJ9hEc",
        "outputId": "110ebebf-6762-4829-9354-3f15c8644fb3",
        "colab": {
          "base_uri": "https://localhost:8080/"
        }
      },
      "execution_count": 58,
      "outputs": [
        {
          "output_type": "stream",
          "name": "stdout",
          "text": [
            "dj_db: 0.07138288792343662\n",
            "\u001b[92mTests passed!\n"
          ]
        }
      ]
    },
    {
      "cell_type": "code",
      "source": [
        "np.random.seed(1)\n",
        "initial_w = np.random.rand(X_mapped.shape[1])-0.5\n",
        "initial_b = 1.\n",
        "lambda_ = 0.01\n",
        "iterations = 1000\n",
        "alpha = 0.01\n",
        "def gradient_descent(X_mapped, y_train, initial_w, initial_b,\n",
        "                                    compute_cost_reg, compute_gradient_reg,\n",
        "                                    alpha, iterations, lambda_):\n",
        "\n",
        "  w = initial_w\n",
        "  b = initial_b\n",
        "  J_history=[]\n",
        "  for i in range(iterations):\n",
        "      dj_db, dj_dw = compute_gradient_reg(X_mapped, y_train, initial_w, initial_b, lambda_)\n",
        "      w -= alpha * dj_dw\n",
        "      b -= alpha * dj_db\n",
        "      J_history.append(compute_cost_reg(X_mapped, y_train, w, b, lambda_))\n",
        "      if (len(J_history)>3):\n",
        "        if (abs(J_history[-1]-J_history[-2])<0.0001):\n",
        "          break\n",
        "\n",
        "  return w, b, J_history, _\n",
        "\n",
        "w,b, J_history,_ = gradient_descent(X_mapped, y_train, initial_w, initial_b,\n",
        "                                    compute_cost_reg, compute_gradient_reg,\n",
        "                                    alpha, iterations, lambda_)\n",
        "print(J_history)"
      ],
      "metadata": {
        "id": "c5y3Nb9Z_SC4",
        "outputId": "8e96bb45-9bc1-4084-e6d0-9b5822e0528c",
        "colab": {
          "base_uri": "https://localhost:8080/"
        }
      },
      "execution_count": 75,
      "outputs": [
        {
          "output_type": "stream",
          "name": "stdout",
          "text": [
            "[0.7210188345400221, 0.7203604509431902, 0.7197047876060516, 0.7190518377225574, 0.718401594482577, 0.7177540510721186, 0.7171092006735511, 0.7164670364658248, 0.7158275516246867, 0.7151907393229021, 0.7145565927304639, 0.7139251050148142, 0.7132962693410514, 0.7126700788721425, 0.7120465267691354, 0.7114256061913661, 0.7108073102966648, 0.7101916322415623, 0.7095785651814954, 0.7089681022710069, 0.7083602366639508, 0.7077549615136872, 0.7071522699732851, 0.7065521551957165, 0.7059546103340527, 0.7053596285416595, 0.7047672029723858, 0.7041773267807588, 0.7035899931221704, 0.7030051951530676, 0.7024229260311352, 0.7018431789154846, 0.701265946966835, 0.7006912233476958, 0.7001190012225458, 0.6995492737580138, 0.6989820341230539, 0.6984172754891238, 0.6978549910303563, 0.6972951739237333, 0.6967378173492552, 0.6961829144901153, 0.6956304585328613, 0.695080442667567, 0.6945328600879936, 0.693987703991757, 0.6934449675804855, 0.6929046440599838, 0.6923667266403889, 0.6918312085363304, 0.6912980829670835, 0.6907673431567254, 0.6902389823342867, 0.6897129937339018, 0.6891893705949628, 0.6886681061622616, 0.6881491936861415, 0.6876326264226398, 0.6871183976336329, 0.6866065005869766, 0.6860969285566483, 0.6855896748228852, 0.6850847326723225, 0.6845820953981291, 0.6840817563001428, 0.6835837086850023, 0.6830879458662794, 0.68259446116461, 0.6821032479078222, 0.681614299431062, 0.6811276090769218, 0.6806431701955623, 0.6801609761448371, 0.6796810202904124, 0.679203296005889, 0.6787277966729179, 0.6782545156813209, 0.6777834464292027, 0.677314582323068, 0.6768479167779311, 0.6763834432174317, 0.6759211550739408, 0.6754610457886705, 0.6750031088117823, 0.6745473376024914, 0.6740937256291711, 0.6736422663694587, 0.6731929533103511, 0.6727457799483119, 0.6723007397893657, 0.6718578263491972, 0.6714170331532484, 0.6709783537368117, 0.6705417816451239, 0.6701073104334588, 0.6696749336672195, 0.6692446449220253, 0.6688164377838022, 0.6683903058488684, 0.6679662427240209, 0.6675442420266212, 0.6671242973846745, 0.6667064024369177, 0.6662905508328939, 0.6658767362330367, 0.6654649523087448, 0.6650551927424617, 0.6646474512277508, 0.6642417214693677, 0.6638379971833377, 0.6634362720970235, 0.6630365399491999, 0.6626387944901212, 0.6622430294815914, 0.6618492386970299, 0.6614574159215391, 0.6610675549519692, 0.660679649596983, 0.6602936936771165, 0.6599096810248432, 0.6595276054846334, 0.659147460913014, 0.6587692411786267, 0.6583929401622852, 0.6580185517570335, 0.6576460698681975, 0.6572754884134419, 0.6569068013228215, 0.6565400025388356, 0.6561750860164761, 0.6558120457232797, 0.6554508756393755, 0.6550915697575335, 0.6547341220832101, 0.6543785266345977, 0.654024777442665, 0.6536728685512042, 0.653322794016872, 0.6529745479092324, 0.6526281243107995, 0.6522835173170728, 0.6519407210365832, 0.6515997295909233, 0.6512605371147919, 0.6509231377560254, 0.6505875256756368, 0.6502536950478468, 0.649921640060121, 0.6495913549131994, 0.6492628338211309, 0.6489360710113041, 0.6486110607244755, 0.6482877972147999, 0.6479662747498613, 0.6476464876106961, 0.647328430091824, 0.6470120965012708, 0.6466974811605967, 0.6463845784049188, 0.646073382582934, 0.6457638880569456, 0.6454560892028794, 0.6451499804103119, 0.6448455560824835, 0.6445428106363259, 0.6442417385024755, 0.6439423341252932, 0.643644591962883, 0.6433485064871084, 0.643054072183608, 0.6427612835518108, 0.6424701351049525, 0.6421806213700865, 0.6418927368881012, 0.6416064762137297, 0.6413218339155623, 0.6410388045760588, 0.6407573827915588, 0.6404775631722902, 0.6401993403423812, 0.6399227089398672, 0.6396476636167, 0.6393741990387539, 0.6391023098858336, 0.6388319908516805, 0.6385632366439787, 0.6382960419843584, 0.6380304016084021, 0.6377663102656475, 0.6375037627195931, 0.6372427537476968, 0.6369832781413811, 0.6367253307060359, 0.6364689062610153, 0.636213999639642, 0.635960605689206, 0.6357087192709645, 0.6354583352601397, 0.6352094485459193, 0.6349620540314522, 0.6347161466338475, 0.6344717212841718, 0.6342287729274441, 0.633987296522633, 0.6337472870426519, 0.6335087394743533, 0.6332716488185267, 0.633036010089887, 0.6328018183170733, 0.6325690685426396, 0.6323377558230485, 0.6321078752286626, 0.6318794218437382, 0.6316523907664154, 0.6314267771087085, 0.6312025759964994, 0.6309797825695237, 0.630758391981366, 0.6305383993994436, 0.6303198000050009, 0.6301025889930933, 0.6298867615725792, 0.629672312966106, 0.6294592384100981, 0.6292475331547444, 0.6290371924639858, 0.6288282116154986, 0.6286205859006854, 0.6284143106246565, 0.6282093811062177, 0.6280057926778563, 0.6278035406857231, 0.6276026204896185, 0.6274030274629769, 0.6272047569928508, 0.6270078044798928, 0.6268121653383386, 0.626617834995995, 0.6264248088942135, 0.6262330824878813, 0.6260426512453986, 0.6258535106486616, 0.6256656561930436, 0.6254790833873777, 0.6252937877539348, 0.6251097648284084, 0.6249270101598907, 0.6247455193108555, 0.6245652878571377, 0.6243863113879126, 0.6242085855056752, 0.6240321058262197, 0.6238568679786181, 0.6236828676052, 0.6235101003615287, 0.6233385619163827, 0.623168247951731, 0.6229991541627127, 0.6228312762576126, 0.6226646099578412, 0.6224991509979103, 0.622334895125411, 0.6221718381009883, 0.6220099756983196, 0.6218493037040919, 0.6216898179179756, 0.6215315141526027, 0.6213743882335411, 0.6212184359992715, 0.6210636533011615, 0.6209100360034443, 0.6207575799831878, 0.6206062811302764, 0.620456135347381, 0.620307138549936, 0.6201592866661122, 0.6200125756367945, 0.6198670014155515, 0.6197225599686139, 0.619579247274845, 0.619437059325717, 0.6192959921252841, 0.619156041690154, 0.6190172040494654, 0.6188794752448575, 0.6187428513304443, 0.6186073283727886, 0.6184729024508757, 0.6183395696560824, 0.6182073260921533, 0.6180761678751718, 0.6179460911335352, 0.6178170920079211, 0.6176891666512665, 0.6175623112287356, 0.6174365219176943, 0.6173117949076807, 0.617188126400376, 0.6170655126095806, 0.6169439497611813, 0.6168234340931246, 0.616703961855388, 0.6165855293099537, 0.6164681327307757, 0.6163517684037544, 0.6162364326267077, 0.6161221217093402, 0.6160088319732163, 0.6158965597517303, 0.6157853013900765, 0.6156750532452228, 0.6155658116858796, 0.6154575730924698, 0.615350333857102, 0.6152440903835376, 0.6151388390871669, 0.6150345763949735, 0.6149312987455096, 0.6148290025888631, 0.6147276843866314, 0.6146273406118891, 0.6145279677491587]\n"
          ]
        }
      ]
    },
    {
      "cell_type": "code",
      "source": [
        "#plot decision boundary\n",
        "def plot_decision_boundary(w,b,X,y):\n",
        "\n",
        "    plot_data(X[:, 0:2], y)\n",
        "\n",
        "    if X.shape[1] <= 2:\n",
        "        plot_x = np.array([min(X[:, 0]), max(X[:, 0])])\n",
        "        plot_y = (-1. / w[1]) * (w[0] * plot_x + b)\n",
        "\n",
        "        plt.plot(plot_x, plot_y, c=\"b\")\n",
        "\n",
        "    else:\n",
        "        u = np.linspace(-1, 1.5, 50)\n",
        "        v = np.linspace(-1, 1.5, 50)\n",
        "\n",
        "        z = np.zeros((len(u), len(v)))\n",
        "\n",
        "\n",
        "        for i in range(len(u)):\n",
        "            for j in range(len(v)):\n",
        "                z[i,j] = sigmoid(np.dot(map_feature(u[i], v[j]), w) + b)\n",
        "\n",
        "\n",
        "        z = z.T\n",
        "\n",
        "\n",
        "        plt.contour(u,v,z, levels = [0.5], colors=\"g\")"
      ],
      "metadata": {
        "id": "cqSOrJsTAf9p"
      },
      "execution_count": 72,
      "outputs": []
    },
    {
      "cell_type": "code",
      "source": [
        "plot_decision_boundary(w, b, X_mapped, y_train)"
      ],
      "metadata": {
        "id": "etir_m_AAyYC",
        "outputId": "33356e51-6f72-48c7-a0b2-4a6711ae43e0",
        "colab": {
          "base_uri": "https://localhost:8080/",
          "height": 490
        }
      },
      "execution_count": 74,
      "outputs": [
        {
          "output_type": "stream",
          "name": "stderr",
          "text": [
            "<ipython-input-72-1a0f4325d43d>:21: DeprecationWarning: Conversion of an array with ndim > 0 to a scalar is deprecated, and will error in future. Ensure you extract a single element from your array before performing this operation. (Deprecated NumPy 1.25.)\n",
            "  z[i,j] = sigmoid(np.dot(map_feature(u[i], v[j]), w) + b)\n"
          ]
        },
        {
          "output_type": "display_data",
          "data": {
            "text/plain": [
              "<Figure size 640x480 with 1 Axes>"
            ],
            "image/png": "[encoded data removed]"
          },
          "metadata": {}
        }
      ]
    },
    {
      "cell_type": "code",
      "source": [
        "#predict your training model\n",
        "def predict(X, w, b):\n",
        "  m,n=X.shape\n",
        "  p=np.zeros(m)\n",
        "  for i in range(m):\n",
        "    z = np.dot(X[i],w)+b\n",
        "    y_prob = sigmoid(z)\n",
        "    p[i] = (1 if y_prob >= 0.5 else 0)\n",
        "\n",
        "\n",
        "\n",
        "\n",
        "\n",
        "  return p"
      ],
      "metadata": {
        "id": "MD2Dup4OA1ew"
      },
      "execution_count": 76,
      "outputs": []
    },
    {
      "cell_type": "code",
      "source": [
        "p = predict(X_mapped, w, b)\n",
        "\n",
        "print('Accuracy of training model: %f'%(np.mean(p == y_train) * 100))"
      ],
      "metadata": {
        "id": "TAhIPFIsBTjk",
        "outputId": "7e7df7f7-f196-4578-87e5-01865ac5a69e",
        "colab": {
          "base_uri": "https://localhost:8080/"
        }
      },
      "execution_count": 77,
      "outputs": [
        {
          "output_type": "stream",
          "name": "stdout",
          "text": [
            "Accuracy of training model: 66.101695\n"
          ]
        }
      ]
    },
    {
      "cell_type": "code",
      "source": [],
      "metadata": {
        "id": "J3Pz-9zXfYnw"
      },
      "execution_count": null,
      "outputs": []
    }
  ]
}